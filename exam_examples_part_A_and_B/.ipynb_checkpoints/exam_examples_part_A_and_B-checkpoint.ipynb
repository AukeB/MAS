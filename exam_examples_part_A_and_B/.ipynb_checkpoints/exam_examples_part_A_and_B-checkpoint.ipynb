{
 "cells": [
  {
   "cell_type": "markdown",
   "metadata": {},
   "source": [
    "# Modern Astrostatistics\n",
    "# Exam examples for Part A and B"
   ]
  },
  {
   "cell_type": "markdown",
   "metadata": {},
   "source": [
    "## Part A: Understanding. Totalling: 15 CP"
   ]
  },
  {
   "cell_type": "markdown",
   "metadata": {},
   "source": [
    "### 1) Tigers in India (6.5 CP)"
   ]
  },
  {
   "cell_type": "markdown",
   "metadata": {},
   "source": [
    "It is uncertain how many tigers are still living in India. It is estimated that between 3000 to 4000 tigers are still populating India's nature. All numbers between these two limits are equally likely. Tigers come in two variations: white tigers and yellow tigers. Only 3.5 percent of all tigers are white. Let 'T' abbreviate 'tiger', 'W' shall abbreviate 'white' and 'Y' shall abbreviate 'yellow'"
   ]
  },
  {
   "cell_type": "markdown",
   "metadata": {},
   "source": [
    "1. Plot the distribution $\\mathcal{P}(T)$ and give its name (0.5 CP)"
   ]
  },
  {
   "cell_type": "markdown",
   "metadata": {},
   "source": [
    "**Answer**: All values between 3000 and 4000 are equally likely so:"
   ]
  },
  {
   "cell_type": "code",
   "execution_count": 2,
   "metadata": {},
   "outputs": [],
   "source": [
    "import numpy as np\n",
    "import matplotlib.pyplot as plt"
   ]
  },
  {
   "cell_type": "code",
   "execution_count": 13,
   "metadata": {},
   "outputs": [
    {
     "data": {
      "image/png": "[encoded data removed]",
      "text/plain": [
       "<Figure size 432x288 with 1 Axes>"
      ]
     },
     "metadata": {},
     "output_type": "display_data"
    }
   ],
   "source": [
    "number_array = np.linspace(3001,4000,1000)\n",
    "P_T_array = np.linspace(0.001,0.001,1000)\n",
    "plt.plot(number_array,P_T_array)\n",
    "plt.axis([2900,4100,0,0.005])\n",
    "plt.title('$\\mathcal{P}(T)$')\n",
    "plt.xlabel('Number of tigers')\n",
    "plt.ylabel('Probability $\\mathcal{P}(T)$')\n",
    "plt.show()"
   ]
  },
  {
   "cell_type": "markdown",
   "metadata": {},
   "source": [
    "**What is its name?**"
   ]
  },
  {
   "cell_type": "markdown",
   "metadata": {},
   "source": [
    "2. What does $\\mathcal{P}(W|T)$ mean (in words), and can you give its numerical value? (0.5 + 0.5 CP) P.S: The answer $\\mathcal{P}(W|T)$ is pronounced as probability of $W$ give $T$ is insufficient. Explain it such that a top-ranking biologist or your best friend from medicine knows that you are talking about."
   ]
  },
  {
   "cell_type": "markdown",
   "metadata": {},
   "source": [
    "**Answer**: $\\mathcal{P}(W|T)$ means: Given that what you are looking at, is a tiger, what is the probability that that tiger is white? Yes you can give its numerical value. In the intro text it is stated that 3.5 percent of all tigers is white, so $\\mathcal{P}(W|T) = 3.5$"
   ]
  },
  {
   "cell_type": "markdown",
   "metadata": {},
   "source": [
    "3. What $\\mathcal{P}(T|Y)$ mean (in words), and can you give its numerical value? (0.5 + 0.5 CP)"
   ]
  },
  {
   "cell_type": "markdown",
   "metadata": {},
   "source": [
    "**Answer**: Given that something is yellow, what is the probability that that 'something' is a tiger? **Not sure if correct**."
   ]
  },
  {
   "cell_type": "markdown",
   "metadata": {},
   "source": [
    "4. Explain what the integral $\\int T \\mathcal{P}(T) \\text{d}T$ means, and give its numerical value, if possible (1+1 CP)"
   ]
  },
  {
   "cell_type": "code",
   "execution_count": null,
   "metadata": {},
   "outputs": [],
   "source": []
  },
  {
   "cell_type": "markdown",
   "metadata": {},
   "source": [
    "5. Explain what the integral $\\int T \\mathcal{P}(T|W) \\text{d}T$ means, and give its numerical value, if possible (1+1 CP)"
   ]
  },
  {
   "cell_type": "code",
   "execution_count": null,
   "metadata": {},
   "outputs": [],
   "source": []
  },
  {
   "cell_type": "markdown",
   "metadata": {},
   "source": [
    "### II) Elements of importance (5 CP)"
   ]
  },
  {
   "cell_type": "markdown",
   "metadata": {},
   "source": [
    "Define (with equations) the following statistical concepts and explain them (in words)."
   ]
  },
  {
   "cell_type": "markdown",
   "metadata": {},
   "source": [
    "1. Maximum-likelihood estimator. (1 CP)"
   ]
  },
  {
   "cell_type": "code",
   "execution_count": null,
   "metadata": {},
   "outputs": [],
   "source": []
  },
  {
   "cell_type": "markdown",
   "metadata": {},
   "source": [
    "2. Covariance matrix. (1 CP)"
   ]
  },
  {
   "cell_type": "code",
   "execution_count": null,
   "metadata": {},
   "outputs": [],
   "source": []
  },
  {
   "cell_type": "markdown",
   "metadata": {},
   "source": [
    "3. Statistical independence of two random variables. (1 CP)"
   ]
  },
  {
   "cell_type": "code",
   "execution_count": null,
   "metadata": {},
   "outputs": [],
   "source": []
  },
  {
   "cell_type": "markdown",
   "metadata": {},
   "source": [
    "4. Conditional distribution. (1 CP)"
   ]
  },
  {
   "cell_type": "code",
   "execution_count": null,
   "metadata": {},
   "outputs": [],
   "source": []
  },
  {
   "cell_type": "markdown",
   "metadata": {},
   "source": [
    "5. Marginal distribution (1 CP)"
   ]
  },
  {
   "cell_type": "code",
   "execution_count": null,
   "metadata": {},
   "outputs": [],
   "source": []
  },
  {
   "cell_type": "markdown",
   "metadata": {},
   "source": [
    "### III) Definitions and explanations"
   ]
  },
  {
   "cell_type": "markdown",
   "metadata": {},
   "source": [
    "Define (with equations or through examples in equation form), *and* explain in words the following terms."
   ]
  },
  {
   "cell_type": "markdown",
   "metadata": {},
   "source": [
    "1. A measure (as in 'measure space'). (1 CP)"
   ]
  },
  {
   "cell_type": "code",
   "execution_count": null,
   "metadata": {},
   "outputs": [],
   "source": []
  },
  {
   "cell_type": "markdown",
   "metadata": {},
   "source": [
    "2. Bayesian Evidence. (1 CP)"
   ]
  },
  {
   "cell_type": "code",
   "execution_count": null,
   "metadata": {},
   "outputs": [],
   "source": []
  },
  {
   "cell_type": "markdown",
   "metadata": {},
   "source": [
    "3. Bayes' Theorem. (1 CP)"
   ]
  },
  {
   "cell_type": "code",
   "execution_count": null,
   "metadata": {},
   "outputs": [],
   "source": []
  },
  {
   "cell_type": "markdown",
   "metadata": {},
   "source": [
    "4. Matched filter. (1 CP)"
   ]
  },
  {
   "cell_type": "code",
   "execution_count": null,
   "metadata": {},
   "outputs": [],
   "source": []
  },
  {
   "cell_type": "markdown",
   "metadata": {},
   "source": [
    "5. Rejection sampling. (1 CP)"
   ]
  },
  {
   "cell_type": "code",
   "execution_count": null,
   "metadata": {},
   "outputs": [],
   "source": []
  },
  {
   "cell_type": "markdown",
   "metadata": {},
   "source": [
    "### IV) Correct interpretation of statistical tests (5 CP)"
   ]
  },
  {
   "cell_type": "markdown",
   "metadata": {},
   "source": [
    "1. Describe the $\\chi²/$degF test: what it is used for and what does it compute? (1 CP)"
   ]
  },
  {
   "cell_type": "code",
   "execution_count": null,
   "metadata": {},
   "outputs": [],
   "source": []
  },
  {
   "cell_type": "markdown",
   "metadata": {},
   "source": [
    "2. Name one caveat against it, where the problem is caused by the value of $\\chi²$. Demonstrate your named caveat by giving/inventing a concrete example. (1+1 CP)"
   ]
  },
  {
   "cell_type": "code",
   "execution_count": null,
   "metadata": {},
   "outputs": [],
   "source": []
  },
  {
   "cell_type": "markdown",
   "metadata": {},
   "source": [
    "2. Name one caveat against it, where the problem is caused by the degrees of freem defF. Demonstrate your named caveat by giving/inventing a concrete example. (1+1 CP)"
   ]
  },
  {
   "cell_type": "code",
   "execution_count": null,
   "metadata": {},
   "outputs": [],
   "source": []
  },
  {
   "cell_type": "markdown",
   "metadata": {},
   "source": [
    "### V) Understanding (4 CP)"
   ]
  },
  {
   "cell_type": "markdown",
   "metadata": {},
   "source": [
    "1. Explain why Bayesian parameter inference works even if the posterior is not normalized. (1 CP)"
   ]
  },
  {
   "cell_type": "code",
   "execution_count": null,
   "metadata": {},
   "outputs": [],
   "source": []
  },
  {
   "cell_type": "markdown",
   "metadata": {},
   "source": [
    "2. Explain the 'Curse of Dimension', which makes sampling and inference in high-dimensional spaces difficult. (1 CP)"
   ]
  },
  {
   "cell_type": "code",
   "execution_count": null,
   "metadata": {},
   "outputs": [],
   "source": []
  },
  {
   "cell_type": "markdown",
   "metadata": {},
   "source": [
    "3. Explain which interpretations Bayesians and frequentists attribute to the term 'probability'. I.e.: define 'probability' from the Bayesian perspective (1 CP) and from the frequentist perspective (1 CP)."
   ]
  },
  {
   "cell_type": "markdown",
   "metadata": {},
   "source": [
    "**Answer**: If Bayesians talk about the probability, they use terms such as 'true', 'might be true' or 'false'. When frequentists talk about probability, they use terms such as 'it will happen', 'might happen' or 'it does not happen at all'. This means that if a experiment is repetitive, it is probably best interpreted from a frequentist perspective."
   ]
  },
  {
   "cell_type": "markdown",
   "metadata": {},
   "source": [
    "## Part B: Analytics. Totalling: 20 CP."
   ]
  },
  {
   "cell_type": "markdown",
   "metadata": {},
   "source": [
    "### 1) Beta distribution"
   ]
  },
  {
   "cell_type": "markdown",
   "metadata": {},
   "source": [
    "The beta-distribution of a random variable $x$ is given by\n",
    "\n",
    "$$x \\sim x^{a-1}(1-x)^{b-1} $$\n",
    "\n",
    "1. What is the most likely data point to be drawn in a single measurement?"
   ]
  },
  {
   "cell_type": "markdown",
   "metadata": {},
   "source": []
  },
  {
   "cell_type": "markdown",
   "metadata": {},
   "source": [
    "2. How many peaks does the distribution have?"
   ]
  },
  {
   "cell_type": "markdown",
   "metadata": {},
   "source": []
  },
  {
   "cell_type": "markdown",
   "metadata": {},
   "source": [
    "3. Sketch $\\mathcal{P}(x|a,b)$ for different integer values $a$ and $b$."
   ]
  },
  {
   "cell_type": "markdown",
   "metadata": {},
   "source": []
  },
  {
   "cell_type": "markdown",
   "metadata": {},
   "source": [
    "4. Adopting a flat prior, and assuming $b = 5$ is known, derive the posterior of unknown parameter $a$ given a measured $x$."
   ]
  },
  {
   "cell_type": "markdown",
   "metadata": {},
   "source": []
  },
  {
   "cell_type": "markdown",
   "metadata": {},
   "source": [
    "5. Assume your colleague knows a bit more about $a$ from previous measurements, and he gives you the extra information $\\pi \\sim a^{-1}$. Derive the new posterior of $a$ given a measured value of $x$ and your colleagues' prior information."
   ]
  },
  {
   "cell_type": "markdown",
   "metadata": {},
   "source": []
  },
  {
   "cell_type": "markdown",
   "metadata": {},
   "source": [
    "6. Sketch the posterior. Label your axes carefully. Is the most likely value of $a$ the same as the average value for $a$?\n",
    "\n",
    "Hint: the solutions to the plots can be seen when querying Wikipedia for `beta distribution'."
   ]
  },
  {
   "cell_type": "markdown",
   "metadata": {},
   "source": []
  },
  {
   "cell_type": "markdown",
   "metadata": {},
   "source": [
    "### II) Logistic distribution"
   ]
  },
  {
   "cell_type": "markdown",
   "metadata": {},
   "source": [
    "The logistic distribution is given by\n",
    "\n",
    "$$ x \\sim \\frac{\\text{exp }\\Big(-\\frac{x-\\mu}{s}\\Big)}{s\\Big(1+e^\\frac{x-\\mu}{s}\\Big)^2} $$"
   ]
  },
  {
   "cell_type": "markdown",
   "metadata": {},
   "source": [
    "1. What is the random variable here?"
   ]
  },
  {
   "cell_type": "markdown",
   "metadata": {},
   "source": []
  },
  {
   "cell_type": "markdown",
   "metadata": {},
   "source": [
    "2. How many free paramters does this distribution have?"
   ]
  },
  {
   "cell_type": "markdown",
   "metadata": {},
   "source": []
  },
  {
   "cell_type": "markdown",
   "metadata": {},
   "source": [
    "3. Convert the equation into the writing style $\\mathcal{P}(x|...)$ or $\\mathcal{P}(...|x)$. (Which of the two do you have to pick? Does $x$ need to be before or after the conditional sign? Replace the dots by the missing parameters.)"
   ]
  },
  {
   "cell_type": "markdown",
   "metadata": {},
   "source": []
  },
  {
   "cell_type": "markdown",
   "metadata": {},
   "source": [
    "4. Is this a symmetric distribution? Hint: What happens if you replace $x$ by $-x$?"
   ]
  },
  {
   "cell_type": "markdown",
   "metadata": {},
   "source": []
  },
  {
   "cell_type": "markdown",
   "metadata": {},
   "source": [
    "5. Do mean and peak of the distribution coincide?"
   ]
  },
  {
   "cell_type": "markdown",
   "metadata": {},
   "source": []
  },
  {
   "cell_type": "markdown",
   "metadata": {},
   "source": [
    "6. If you change $s$, what happens to the shape of the distribution?"
   ]
  },
  {
   "cell_type": "markdown",
   "metadata": {},
   "source": []
  },
  {
   "cell_type": "markdown",
   "metadata": {},
   "source": [
    "7. If you change $\\mu$, what happens to the distribution?"
   ]
  },
  {
   "cell_type": "markdown",
   "metadata": {},
   "source": []
  },
  {
   "cell_type": "markdown",
   "metadata": {},
   "source": [
    "8. From 6 and 7, create a plot which indicates likelikhoods of $s$ and $\\mu$ which are *definitely* incompatible with drawn data $x$. Indicate a drawn data point $x$ in your plot."
   ]
  },
  {
   "cell_type": "markdown",
   "metadata": {},
   "source": []
  },
  {
   "cell_type": "markdown",
   "metadata": {},
   "source": [
    "9. If $x$ drawn from the equation, what is the distribution of $y = kx + l$, for constans $k, l$?"
   ]
  },
  {
   "cell_type": "markdown",
   "metadata": {},
   "source": []
  },
  {
   "cell_type": "markdown",
   "metadata": {},
   "source": [
    "10. Imagine I gave you $x = \\pi$, and I asked you for the full posterior of $\\mu$, because $\\mu$ has some physical meaning that we are interesting in. Sadly, we do not know anything about $s$. Which computation would you need to set up?\n",
    "\n",
    "    - $\\mathcal{P}(s,\\mu|x=\\pi)$?\n",
    "    - $\\int \\mathcal{P}(\\mu|x=\\pi,s)ds$?\n",
    "    - $\\int \\mathcal{P}(\\mu,s|x=\\pi)ds$?\n",
    "    - $\\int \\mathcal{P}(\\mu,s|x)dx$?\n",
    "    - $\\int \\mathcal{P}(\\mu,s,x)dx$?\n",
    "\n",
    "Hint: The solutions to most of these questions can be deduced from the Wikipedia page of the `logistic distribution'."
   ]
  },
  {
   "cell_type": "markdown",
   "metadata": {},
   "source": []
  }
 ],
 "metadata": {
  "kernelspec": {
   "display_name": "Python 3",
   "language": "python",
   "name": "python3"
  },
  "language_info": {
   "codemirror_mode": {
    "name": "ipython",
    "version": 3
   },
   "file_extension": ".py",
   "mimetype": "text/x-python",
   "name": "python",
   "nbconvert_exporter": "python",
   "pygments_lexer": "ipython3",
   "version": "3.6.5"
  }
 },
 "nbformat": 4,
 "nbformat_minor": 2
}
